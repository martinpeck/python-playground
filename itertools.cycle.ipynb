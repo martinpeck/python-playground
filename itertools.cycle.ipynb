{
 "cells": [
  {
   "cell_type": "markdown",
   "metadata": {},
   "source": [
    "# Using itertools.cycle()\n"
   ]
  },
  {
   "cell_type": "markdown",
   "metadata": {},
   "source": [
    "## Flip Flop\n",
    "Flip flopping between two states, such as the colour of tiles on a chessboard."
   ]
  },
  {
   "cell_type": "code",
   "execution_count": 16,
   "metadata": {
    "scrolled": true
   },
   "outputs": [
    {
     "name": "stdout",
     "output_type": "stream",
     "text": [
      "BWBWBWBW\n",
      "BWBWBWBW\n",
      "BWBWBWBW\n",
      "BWBWBWBW\n",
      "BWBWBWBW\n",
      "BWBWBWBW\n",
      "BWBWBWBW\n",
      "BWBWBWBW\n"
     ]
    }
   ],
   "source": [
    "from itertools import cycle\n",
    "\n",
    "# set up a cycle that flips between B (Black) and W (White)\n",
    "colours = cycle([\"B\", \"W\"])\n",
    "\n",
    "for row in range(8):\n",
    "    for col in range(8):\n",
    "        colour = next(colours)                \n",
    "        print(colour, end=\"\")\n",
    "    print(\"\")\n",
    "        \n",
    "    "
   ]
  },
  {
   "cell_type": "markdown",
   "metadata": {},
   "source": [
    "## Round Robin\n",
    "`cycle` can be used to set up a round robin of servers"
   ]
  },
  {
   "cell_type": "code",
   "execution_count": 36,
   "metadata": {},
   "outputs": [
    {
     "name": "stdout",
     "output_type": "stream",
     "text": [
      "192.168.0.1\n",
      "192.168.0.2\n",
      "192.168.0.3\n",
      "192.168.0.4\n",
      "192.168.0.1\n",
      "192.168.0.2\n",
      "192.168.0.3\n",
      "192.168.0.4\n",
      "192.168.0.1\n",
      "192.168.0.2\n"
     ]
    }
   ],
   "source": [
    "from itertools import cycle\n",
    "   \n",
    "servers = ['192.168.0.1', '192.168.0.2', '192.168.0.3', '192.168.0.4']\n",
    "server_ring = cycle(servers)\n",
    "       \n",
    "for _ in range(10):\n",
    "    print(next(server_ring))\n"
   ]
  },
  {
   "cell_type": "code",
   "execution_count": null,
   "metadata": {
    "collapsed": true
   },
   "outputs": [],
   "source": []
  }
 ],
 "metadata": {
  "kernelspec": {
   "display_name": "Python 3",
   "language": "python",
   "name": "python3"
  },
  "language_info": {
   "codemirror_mode": {
    "name": "ipython",
    "version": 3
   },
   "file_extension": ".py",
   "mimetype": "text/x-python",
   "name": "python",
   "nbconvert_exporter": "python",
   "pygments_lexer": "ipython3",
   "version": "3.6.1"
  }
 },
 "nbformat": 4,
 "nbformat_minor": 2
}
